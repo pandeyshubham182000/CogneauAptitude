{
 "cells": [
  {
   "cell_type": "code",
   "execution_count": 1,
   "metadata": {},
   "outputs": [],
   "source": [
    "                                        ### Cogneau System Pvt. Ltd. \n",
    "    \n",
    "# Name => Shubham Pandey                 Registration No. => 11917725               Lovely Professional University"
   ]
  },
  {
   "cell_type": "code",
   "execution_count": 10,
   "metadata": {},
   "outputs": [
    {
     "name": "stdout",
     "output_type": "stream",
     "text": [
      "Enter the total number of coins : 27\n",
      "\n",
      "The Minimum No Of Weighs That Has To Be Done Is : 3\n",
      "\n",
      "Description : We have to weight the coins 3 times to get the defected or odd coin which is our requirement \n"
     ]
    }
   ],
   "source": [
    "                                 # Ques = 02 => Weighing it a harder way\n",
    "\n",
    "# Marks : 25\n",
    "    \n",
    "#27 coins out of which all are of 10g except 1 which is of 9g\n",
    "# Approach => I would follow the divide and conquer, to get the solution\n",
    "\n",
    "#**************************************************************************************\n",
    "import math as mth\n",
    "\n",
    "# Enter the number of coins and checking its validity that wether it is power of 3 or not\n",
    "while True:\n",
    "    coins=int(input(\"Enter the total number of coins : \"))\n",
    "    isPowerOf3=int(mth.log(coins,3))\n",
    "    if pow(3,isPowerOf3)==coins:\n",
    "        break\n",
    "    else:\n",
    "        print(\"Enter a valid number of coins which is Power of 3\")\n",
    "        \n",
    "# If the number of coins is power of 3 then only the loop breaks and this part of code will run\n",
    "# we here aim to return the minimum weighs we have to do i.e power of 3 which we have calculated above in \"isPowerOf3\" variable\n",
    "\n",
    "print(f\"\\nThe minimum no of weighs that has to be done is : {isPowerOf3}\\n\".title())\n",
    "print(f\"Description : We have to weight the coins {isPowerOf3} times to get the defected or odd coin which is our requirement \")\n",
    "\n",
    "\n",
    "#*************************************************************************************"
   ]
  },
  {
   "cell_type": "code",
   "execution_count": 5,
   "metadata": {
    "scrolled": true
   },
   "outputs": [
    {
     "name": "stdout",
     "output_type": "stream",
     "text": [
      "\n",
      "<<<<************************************************************>>>>\n",
      "\n",
      "****  Predict the poisoned bottle  ****\n",
      "\n",
      "Enter number of prisoner from 0,1,2,3......,9.\t Values must be comma seprated\n",
      "\n",
      "Enter the number of prisioner who is dead now : 10\n",
      "\n",
      "The poisoned bottle is bottle number :  3\n",
      "\n",
      "<<<<************************************************************>>>>\n",
      "\n",
      "\n",
      "<<<<************************************************************>>>>\n",
      "\n",
      "Enter the number of total prisoners : 10\n",
      "Enter number of wine bottles : 1000\n",
      "CSV file created successfully ..........\n",
      "\n",
      "Description : The first value represent the 'Bottle number' and the remaining value is 'Person number' who drinks the wine from bottle\n",
      "\n",
      "<<<<************************************************************>>>>\n"
     ]
    }
   ],
   "source": [
    "#                               Ques = 03 => 1000 Wine \n",
    "\n",
    "# Marks : 50\n",
    "\n",
    "# Approach => I will follow the \"BINARY ENCODING\" method to find the poisioned bottle\n",
    "\n",
    "\n",
    "#***********************************************************************************************************\n",
    "import csv\n",
    "# Pridicting which bottle is poisnous\n",
    "print(\"\\n<<<<************************************************************>>>>\\n\")\n",
    "print(\"****  Predict the poisoned bottle  ****\")\n",
    "print(\"\\nEnter number of prisoner from 0,1,2,3......,9.\\t Values must be comma seprated\\n\")\n",
    "dead=input(\"Enter the number of prisioner who is dead now : \")\n",
    "\n",
    "s_predict=[\"0\",\"0\",\"0\",\"0\",\"0\",\"0\",\"0\",\"0\",\"0\",\"0\"]\n",
    "for each in dead:\n",
    "    if each==\",\":\n",
    "        continue\n",
    "    else:\n",
    "        s_predict[9-int(each)]=\"1\"\n",
    "\n",
    "s1_predict=\"\".join(s_predict)\n",
    "poisonBottle=int(s1_predict,2)\n",
    "if poisonBottle>1000:\n",
    "    print(\"\\nYou may entered wrong data about dead prisoner\")\n",
    "else:\n",
    "    print(f\"\\nThe poisoned bottle is bottle number :  {poisonBottle}\")\n",
    "print(\"\\n<<<<************************************************************>>>>\")\n",
    "\n",
    "#***********************************************************************************************************\n",
    "\n",
    "print(\"\\n\\n<<<<************************************************************>>>>\\n\")\n",
    "bag=[]\n",
    "# Total Prisoners\n",
    "prisoners=int(input(\"Enter the number of total prisoners : \"))\n",
    "\n",
    "# Total wine bottles\n",
    "wine_bot=int(input(\"Enter number of wine bottles : \"))\n",
    "\n",
    "# convert bottle no. to binary code and save in a list bag\n",
    "for i in range(1,wine_bot+1):\n",
    "    bin_conv=bin(i)[2:]\n",
    "    if len(bin_conv)<=10:\n",
    "        diff=10-len(bin_conv)\n",
    "        bin_conv=\"0\"*diff+bin_conv\n",
    "        bag.append(bin_conv)\n",
    "    \n",
    "        \n",
    "#print(bag)\n",
    "\n",
    "\n",
    "# CSV data formation\n",
    "#prisoner no 1,2,3,4...10\n",
    "#bottle no. 54,34,21,34\n",
    "\n",
    "# Columns of table\n",
    "header=[\"BOTTLE No.\", \"PRISONER No.\"]\n",
    "\n",
    "# Rows of table\n",
    "data_rows=[]\n",
    "\n",
    "for i in range(0,wine_bot):\n",
    "    data=[]\n",
    "    data.append(i+1)\n",
    "    m=0\n",
    "    for each in bag[i][::-1]:\n",
    "        if each==\"1\":\n",
    "            data.append(m+1)\n",
    "        m=m+1\n",
    "    data_rows.append(data)\n",
    "\n",
    "    #print(data_rows)\n",
    "\n",
    "with open('wine_person_detail.csv','w',newline='') as f:\n",
    "    writer=csv.writer(f)\n",
    "    writer.writerow(header)\n",
    "    writer.writerows(data_rows)\n",
    "print(\"CSV file created successfully ..........\")\n",
    "print(\"\\nDescription : The first value represent the 'Bottle number' and the remaining value is 'Person number' who drinks the wine from bottle\")\n",
    "    \n",
    "print(\"\\n<<<<************************************************************>>>>\")\n",
    "\n",
    "#***********************************************************************************************************"
   ]
  },
  {
   "cell_type": "code",
   "execution_count": null,
   "metadata": {},
   "outputs": [],
   "source": [
    "#                                 ****  THE  END  ****"
   ]
  }
 ],
 "metadata": {
  "kernelspec": {
   "display_name": "Python 3",
   "language": "python",
   "name": "python3"
  },
  "language_info": {
   "codemirror_mode": {
    "name": "ipython",
    "version": 3
   },
   "file_extension": ".py",
   "mimetype": "text/x-python",
   "name": "python",
   "nbconvert_exporter": "python",
   "pygments_lexer": "ipython3",
   "version": "3.8.3"
  }
 },
 "nbformat": 4,
 "nbformat_minor": 4
}
